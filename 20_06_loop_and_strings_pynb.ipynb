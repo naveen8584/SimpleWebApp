{
  "nbformat": 4,
  "nbformat_minor": 0,
  "metadata": {
    "colab": {
      "provenance": [],
      "authorship_tag": "ABX9TyNQbqkCHuusXkX9fce4+7Wy",
      "include_colab_link": true
    },
    "kernelspec": {
      "name": "python3",
      "display_name": "Python 3"
    },
    "language_info": {
      "name": "python"
    }
  },
  "cells": [
    {
      "cell_type": "markdown",
      "metadata": {
        "id": "view-in-github",
        "colab_type": "text"
      },
      "source": [
        "<a href=\"https://colab.research.google.com/github/naveen8584/SimpleWebApp/blob/master/20_06_loop_and_strings_pynb.ipynb\" target=\"_parent\"><img src=\"https://colab.research.google.com/assets/colab-badge.svg\" alt=\"Open In Colab\"/></a>"
      ]
    },
    {
      "cell_type": "markdown",
      "source": [
        "23-6-2025 loops or iteratrs"
      ],
      "metadata": {
        "id": "cGuzT2L9qRXC"
      }
    },
    {
      "cell_type": "code",
      "execution_count": null,
      "metadata": {
        "id": "mE9oX867qOk6"
      },
      "outputs": [],
      "source": [
        "# loops defination"
      ]
    },
    {
      "cell_type": "markdown",
      "source": [
        "#A loop in programming is a structure that allows you to repeat a block of code multiple times. It’s especially useful when you want to perform the same task again and again with different values or until a condition is met.\n",
        "\n",
        "#For loop – repeats a block of code a specific number of times.\n",
        "\n",
        "#While loop – continues to run as long as a given condition remains true."
      ],
      "metadata": {
        "id": "OMUjwq4Wz86X"
      }
    },
    {
      "cell_type": "code",
      "source": [
        "#foor loop\n",
        "\n",
        "#integer related:\n",
        "\n",
        "#Range:In Python, the range() function is used to generate a sequence of numbers. It's often used in loops to repeat something a specific number of times.\n",
        "#ex: print first 10 number\n",
        "\n",
        "# start: the number where the sequence begins (default is 0)\n",
        "\n",
        "# stop: the number where the sequence ends (not included!)\n",
        "\n",
        "# step: how much to increment by (default is 1)\n",
        "\n",
        "#range(start, stop, step)\n",
        "\n",
        "\n",
        "for num in range(10):          #iterating 0 to 10\n",
        "  print(num)\n",
        "for num in range(10):\n",
        "  print(num*num)\n",
        "\n",
        "for i in range(2,10):\n",
        "  print(i)\n",
        "\n",
        "for value in range(2,15,3):\n",
        "  print(value)"
      ],
      "metadata": {
        "colab": {
          "base_uri": "https://localhost:8080/"
        },
        "id": "aKbV2j120kux",
        "outputId": "2781dba7-f0c1-452b-ca84-66364dceddb7"
      },
      "execution_count": null,
      "outputs": [
        {
          "output_type": "stream",
          "name": "stdout",
          "text": [
            "0\n",
            "1\n",
            "2\n",
            "3\n",
            "4\n",
            "5\n",
            "6\n",
            "7\n",
            "8\n",
            "9\n",
            "0\n",
            "1\n",
            "4\n",
            "9\n",
            "16\n",
            "25\n",
            "36\n",
            "49\n",
            "64\n",
            "81\n",
            "2\n",
            "3\n",
            "4\n",
            "5\n",
            "6\n",
            "7\n",
            "8\n",
            "9\n",
            "2\n",
            "5\n",
            "8\n",
            "11\n",
            "14\n"
          ]
        }
      ]
    },
    {
      "cell_type": "markdown",
      "source": [
        "## accessing elements of list, tuple, dict"
      ],
      "metadata": {
        "id": "KHadbZF-7EVy"
      }
    },
    {
      "cell_type": "code",
      "source": [
        "list1 = [1,2,3,4,5,6,7,'hello123']\n",
        "for value in list1:\n",
        "  print(value)\n",
        "\n",
        "## using range\n",
        "length = len(list1)\n",
        "print(length)\n",
        "\n",
        "for num in range(length):\n",
        "  value = list1[num]\n",
        "  print(value)\n",
        "\n",
        "\n",
        "tuple1 = (1,2,3,4,5,6)\n",
        "for value in tuple1:\n",
        "  print(value)\n",
        "\n",
        "for num in range(len(tuple1)):\n",
        "  value = tuple1[num]\n",
        "  print(value)\n",
        "\n",
        "## difference b/w list and tuple\n",
        "\n",
        "# List: Mutable – you can change, add, or remove elements after the list is created.\n",
        "\n",
        "# Tuple: Immutable – once created, you cannot change the contents.\n",
        "\n",
        "\n",
        "#dictionary:\n",
        "\n",
        "# In Python, a dictionary is a built-in data type that stores data in key-value pairs.\n",
        "# It’s like a real-life dictionary, where each word (the key) has a corresponding definition (the value).\n",
        "\n",
        "# Keys must be unique and are typically strings or numbers.\n",
        "\n",
        "# Values can be of any data type—strings, numbers, lists, even other dictionaries!\n",
        "\n",
        "\n",
        "dict1 = {\n",
        "     \"name\":\"naveen\",\n",
        "     \"age\":15,\n",
        "     \"class\":'10th',\n",
        "     \"section\":'A'\n",
        "}\n",
        "\n",
        "for key,value in dict1.items():     # mandatory for items:used to saparate the key, values\n",
        "  print(f'key is {key} and the corresponding value is {value}')\n"
      ],
      "metadata": {
        "colab": {
          "base_uri": "https://localhost:8080/"
        },
        "id": "obNnH6SZ7SNe",
        "outputId": "0759e47a-f532-40ac-aee3-6db4ee4c4622"
      },
      "execution_count": null,
      "outputs": [
        {
          "output_type": "stream",
          "name": "stdout",
          "text": [
            "1\n",
            "2\n",
            "3\n",
            "4\n",
            "5\n",
            "6\n",
            "7\n",
            "hello123\n",
            "8\n",
            "1\n",
            "2\n",
            "3\n",
            "4\n",
            "5\n",
            "6\n",
            "7\n",
            "hello123\n",
            "1\n",
            "2\n",
            "3\n",
            "4\n",
            "5\n",
            "6\n",
            "1\n",
            "2\n",
            "3\n",
            "4\n",
            "5\n",
            "6\n",
            "key is name and the corresponding value is naveen\n",
            "key is age and the corresponding value is 15\n",
            "key is class and the corresponding value is 10th\n",
            "key is section and the corresponding value is A\n"
          ]
        }
      ]
    },
    {
      "cell_type": "markdown",
      "source": [
        "## using enumerate function\n"
      ],
      "metadata": {
        "id": "WPRdnXLjRTGk"
      }
    },
    {
      "cell_type": "markdown",
      "source": [
        "enumerate is a built-in Python function that takes an iterable (such as a list, tuple, or string) and returns an enumerate object, which yields pairs containing the index and the corresponding item from the iterable.\n",
        "\n",
        "\n",
        " Example:\n",
        "\n",
        "fruits = [\"apple\", \"banana\", \"cherry\"]\n",
        "\n",
        "for index, fruit in enumerate(fruits):\n",
        "    print(index, fruit)"
      ],
      "metadata": {
        "id": "Z5r7cipZnjuq"
      }
    },
    {
      "cell_type": "code",
      "source": [
        "list1 = [1,2,3,4,5]\n",
        "list2 = [11,12,13,14,15]\n",
        "\n",
        "for index, value in enumerate(list1):\n",
        "  print(f'index value is {index} and the value from list1 - {value}')\n",
        "  print(f'index value is {index} and the value from list2 - {list2[index]}')\n"
      ],
      "metadata": {
        "colab": {
          "base_uri": "https://localhost:8080/"
        },
        "id": "gIKqBBG3RdEw",
        "outputId": "c8af2867-ce00-4f9e-a08e-d0a5b848214c"
      },
      "execution_count": null,
      "outputs": [
        {
          "output_type": "stream",
          "name": "stdout",
          "text": [
            "index value is 0 and the value from list1 - 1\n",
            "index value is 0 and the value from list2 - 11\n",
            "index value is 1 and the value from list1 - 2\n",
            "index value is 1 and the value from list2 - 12\n",
            "index value is 2 and the value from list1 - 3\n",
            "index value is 2 and the value from list2 - 13\n",
            "index value is 3 and the value from list1 - 4\n",
            "index value is 3 and the value from list2 - 14\n",
            "index value is 4 and the value from list1 - 5\n",
            "index value is 4 and the value from list2 - 15\n"
          ]
        }
      ]
    },
    {
      "cell_type": "markdown",
      "source": [
        "while loop\n",
        "## A while loop is a control structure that repeatedly executes a block of code as long as a specified condition is True.\n",
        "#The loop stops when the condition becomes False."
      ],
      "metadata": {
        "id": "wcVn8m9PyZnT"
      }
    },
    {
      "cell_type": "code",
      "source": [
        "count = 0\n",
        "while count < 0:\n",
        "  print('count')\n",
        "  count +=1"
      ],
      "metadata": {
        "id": "jxswbPtZymaG"
      },
      "execution_count": null,
      "outputs": []
    },
    {
      "cell_type": "code",
      "source": [
        "## continuously\n",
        "\n",
        "while True:\n",
        "  if count < 10:\n",
        "    print('within the while loop')\n",
        "  else:\n",
        "    break\n",
        "  count +=1\n",
        "print('out side of the while loop')"
      ],
      "metadata": {
        "colab": {
          "base_uri": "https://localhost:8080/"
        },
        "id": "j7iblCGHzEnO",
        "outputId": "ea071b30-ef4f-47c3-d2d7-1febed82229c"
      },
      "execution_count": null,
      "outputs": [
        {
          "output_type": "stream",
          "name": "stdout",
          "text": [
            "within the while loop\n",
            "within the while loop\n",
            "within the while loop\n",
            "within the while loop\n",
            "within the while loop\n",
            "within the while loop\n",
            "within the while loop\n",
            "within the while loop\n",
            "within the while loop\n",
            "within the while loop\n",
            "out side of the while loop\n"
          ]
        }
      ]
    },
    {
      "cell_type": "markdown",
      "source": [
        "Break coutinue and pass:\n",
        " break:\n",
        " The break statement is used to immediately exit a loop (for or while) before its normal completion. Once break is encountered, control jumps out of the nearest enclosing loop.\n",
        "\n",
        " pass:\n",
        " The pass statement is a null operation. It acts as a placeholder and does nothing when executed. It’s often used where syntactically some code is required but you want to leave it empty for now."
      ],
      "metadata": {
        "id": "xQx5naQ90x22"
      }
    },
    {
      "cell_type": "code",
      "source": [
        "#ex\n",
        "\n",
        "for i in range(10):\n",
        "  if i == 5:\n",
        "    break\n",
        "  print(i)"
      ],
      "metadata": {
        "colab": {
          "base_uri": "https://localhost:8080/"
        },
        "id": "uhRtoBjR1n6Z",
        "outputId": "e65d470e-5fc0-4be3-b506-95d79cefe4b2"
      },
      "execution_count": null,
      "outputs": [
        {
          "output_type": "stream",
          "name": "stdout",
          "text": [
            "0\n",
            "1\n",
            "2\n",
            "3\n",
            "4\n"
          ]
        }
      ]
    },
    {
      "cell_type": "code",
      "source": [
        "for i in range(15):\n",
        "  if i > 12:\n",
        "    print('number greater than 12')\n",
        "    break\n",
        "  else:\n",
        "    print(i)\n"
      ],
      "metadata": {
        "colab": {
          "base_uri": "https://localhost:8080/"
        },
        "id": "bsFeFOfb3Z6z",
        "outputId": "e67b84b0-6061-4055-ef6e-233627ce3db7"
      },
      "execution_count": null,
      "outputs": [
        {
          "output_type": "stream",
          "name": "stdout",
          "text": [
            "0\n",
            "1\n",
            "2\n",
            "3\n",
            "4\n",
            "5\n",
            "6\n",
            "7\n",
            "8\n",
            "9\n",
            "10\n",
            "11\n",
            "12\n",
            "number greater than 12\n"
          ]
        }
      ]
    },
    {
      "cell_type": "code",
      "source": [
        "# PASS\n",
        "\n",
        "for i in range(15):\n",
        "  if i > 12:\n",
        "    print('number greater than 12')\n",
        "    pass\n",
        "  else:\n",
        "    print(i)"
      ],
      "metadata": {
        "colab": {
          "base_uri": "https://localhost:8080/"
        },
        "id": "e_DtrrayiDxq",
        "outputId": "61832dad-5a87-4d3c-9554-1655f2a66e0d"
      },
      "execution_count": 2,
      "outputs": [
        {
          "output_type": "stream",
          "name": "stdout",
          "text": [
            "0\n",
            "1\n",
            "2\n",
            "3\n",
            "4\n",
            "5\n",
            "6\n",
            "7\n",
            "8\n",
            "9\n",
            "10\n",
            "11\n",
            "12\n",
            "number greater than 12\n",
            "number greater than 12\n"
          ]
        }
      ]
    },
    {
      "cell_type": "markdown",
      "source": [
        "String manipulations:\n",
        "\n",
        "String manipulation refers to the process of changing, modifying, parsing, or analyzing strings (sequences of characters) in programming and computing. It involves operations that alter the structure or content of strings to achieve a desired result.\n",
        "\n",
        "Common String Manipulation Operations:\n",
        "1.Concatenation: Joining two or more strings (e.g., \"Hello\" + \" World\" → \"Hello World\").\n",
        "\n",
        "2.Substring extraction: Getting a portion of a string (e.g., \"Hello\"[1:4] → \"ell\").\n",
        "\n",
        "3.Searching: Finding substrings or characters (e.g., \"apple\".find(\"p\") → 1).\n",
        "\n",
        "4.Replacing: Changing part of a string (e.g., \"cat\".replace(\"c\", \"b\") → \"bat\").\n",
        "\n",
        "5.Trimming: Removing whitespace or specific characters (e.g., \" hello \".strip() → \"hello\").\n",
        "\n",
        "6.Case conversion: Changing to uppercase/lowercase (e.g., \"Hi\".lower() → \"hi\").\n",
        "\n",
        "7.Splitting and joining: Breaking a string into a list or combining a list into a string (e.g., \"a,b,c\".split(\",\") → [\"a\", \"b\", \"c\"]).\n",
        "\n",
        "String manipulation is essential in data processing, user input handling, formatting output, and more."
      ],
      "metadata": {
        "id": "_Jv6Czf6iZD5"
      }
    },
    {
      "cell_type": "code",
      "source": [
        "# length of the string\n",
        "str1 = 'hello'\n",
        "print(len(str1))"
      ],
      "metadata": {
        "colab": {
          "base_uri": "https://localhost:8080/"
        },
        "id": "qw4oJbUijr4J",
        "outputId": "b20c3994-8197-4bd6-c5f5-9fb789d54c8b"
      },
      "execution_count": 8,
      "outputs": [
        {
          "output_type": "stream",
          "name": "stdout",
          "text": [
            "5\n"
          ]
        }
      ]
    },
    {
      "cell_type": "code",
      "source": [
        "# changing string case\n",
        "\n",
        "# lower case\n",
        "str1 = 'hello'\n",
        "print(str1.lower())\n",
        "\n",
        "# upper case\n",
        "\n",
        "print(str1.upper())\n",
        "\n",
        "# capitalize\n",
        "\n",
        "print (str1.capitalize())\n",
        "\n",
        "\n",
        "# accessing indivual characters of the string\n",
        "\n",
        "print(str1[1])\n",
        "\n",
        "str2 = 'hello world this is a sample testing'\n",
        "\n",
        "# accessing group of characters\n",
        "\n",
        "print(str2[1:])\n",
        "print(str2[6:11])   # start: stop : step\n",
        "print(str2[6:11:2])\n",
        "\n",
        "# nagative indexing\n",
        "print(str2[-1])\n",
        "print(str2[-8:])\n",
        "print(str2[-8:-4])\n",
        "\n",
        "print(str2[-8:].upper())"
      ],
      "metadata": {
        "colab": {
          "base_uri": "https://localhost:8080/"
        },
        "id": "05gfnWdLkM0g",
        "outputId": "d9ff4359-b866-4c8a-bf5e-06c4246d233f"
      },
      "execution_count": 24,
      "outputs": [
        {
          "output_type": "stream",
          "name": "stdout",
          "text": [
            "hello\n",
            "HELLO\n",
            "Hello\n",
            "e\n",
            "ello world this is a sample testing\n",
            "world\n",
            "wrd\n",
            "g\n",
            " testing\n",
            " tes\n",
            " TESTING\n"
          ]
        }
      ]
    },
    {
      "cell_type": "markdown",
      "source": [
        "validating string\n",
        "\n",
        "String validation means checking whether a string meets certain conditions, such as whether it's all digits, all alphabets, lowercase, etc.\n",
        "\n",
        "Python provides built-in string methods to validate strings."
      ],
      "metadata": {
        "id": "F6E1K35co2xf"
      }
    },
    {
      "cell_type": "code",
      "source": [
        "str1 = 'hello world'\n",
        "print(str1.isupper())\n",
        "print(str1.islower())\n",
        "\n",
        "str2 = \"G4G still\"\n",
        "print(str2.isascii())\n",
        "\n",
        "# finding  index of the given string\n",
        "\n",
        "print(str1.index('l'))\n",
        "print(str1.index('world'))"
      ],
      "metadata": {
        "colab": {
          "base_uri": "https://localhost:8080/"
        },
        "id": "4dsjsFu3pZqg",
        "outputId": "3928df20-b7a2-4da2-9e1d-9c4d38086046"
      },
      "execution_count": 29,
      "outputs": [
        {
          "output_type": "stream",
          "name": "stdout",
          "text": [
            "False\n",
            "True\n",
            "True\n",
            "2\n",
            "6\n"
          ]
        }
      ]
    },
    {
      "cell_type": "markdown",
      "source": [
        "strip function\n",
        "The strip() function is a string method used to remove leading and trailing whitespace (or specified characters) from a string.\n",
        "\n",
        "chars (optional): A string specifying the set of characters to remove.\n",
        "If omitted, it removes whitespace (spaces, tabs, newlines) from both ends."
      ],
      "metadata": {
        "id": "ep5-dJMAuvvt"
      }
    },
    {
      "cell_type": "code",
      "source": [
        "str1 = ' hello world '\n",
        "\n",
        "print(str1)\n",
        "print(str1.strip())\n",
        "print(str1.lstrip())\n",
        "print(str1.rstrip())"
      ],
      "metadata": {
        "colab": {
          "base_uri": "https://localhost:8080/"
        },
        "id": "exjwAmyXvs9R",
        "outputId": "9be5d4ae-9250-4be0-de11-2d644fa6b956"
      },
      "execution_count": 32,
      "outputs": [
        {
          "output_type": "stream",
          "name": "stdout",
          "text": [
            " hello world \n",
            "hello world\n",
            "hello world \n",
            " hello world\n"
          ]
        }
      ]
    },
    {
      "cell_type": "markdown",
      "source": [
        "split function\n",
        "\n",
        "The split() function is a string method used to divide a string into a list of substrings, based on a separator.\n"
      ],
      "metadata": {
        "id": "TZD10scew9BP"
      }
    },
    {
      "cell_type": "code",
      "source": [
        "str1 = 'hello world'\n",
        "\n",
        "print(str1.split(' '))\n",
        "\n",
        "str2 = 'hello@world@this@is@sample@testing'\n",
        "print(str2.split('@'))\n",
        "\n",
        "#join function\n",
        "list1 =['hello', 'world', 'this', 'is', 'sample', 'testing']\n",
        "print('#@'.join(list1))"
      ],
      "metadata": {
        "colab": {
          "base_uri": "https://localhost:8080/"
        },
        "id": "ZP0kGkTgxWyy",
        "outputId": "0e10749b-5270-4818-ae63-d9262de91542"
      },
      "execution_count": 41,
      "outputs": [
        {
          "output_type": "stream",
          "name": "stdout",
          "text": [
            "['hello', 'world']\n",
            "['hello', 'world', 'this', 'is', 'sample', 'testing']\n",
            "hello#@world#@this#@is#@sample#@testing\n"
          ]
        }
      ]
    },
    {
      "cell_type": "markdown",
      "source": [
        "Replace function\n",
        "\n",
        "The replace() function is a string method used to replace parts of a string with another string."
      ],
      "metadata": {
        "id": "XqLR9pY5y0H6"
      }
    },
    {
      "cell_type": "code",
      "source": [
        "str1 = 'hello world'\n",
        "str2 = str1.replace('hello','naveen')\n",
        "print(str2)\n",
        "str3 = str1.replace('o','N')\n",
        "print(str3)"
      ],
      "metadata": {
        "colab": {
          "base_uri": "https://localhost:8080/"
        },
        "id": "WG2-itu0zOn6",
        "outputId": "bc3c899f-af56-4439-858a-920d7fe356ea"
      },
      "execution_count": 48,
      "outputs": [
        {
          "output_type": "stream",
          "name": "stdout",
          "text": [
            "naveen world\n",
            "hellN wNrld\n"
          ]
        }
      ]
    }
  ]
}