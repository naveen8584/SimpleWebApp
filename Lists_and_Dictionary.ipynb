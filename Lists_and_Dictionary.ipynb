{
  "nbformat": 4,
  "nbformat_minor": 0,
  "metadata": {
    "colab": {
      "provenance": [],
      "authorship_tag": "ABX9TyOBXY+gVlB9s8aeWgv9DzL7",
      "include_colab_link": true
    },
    "kernelspec": {
      "name": "python3",
      "display_name": "Python 3"
    },
    "language_info": {
      "name": "python"
    }
  },
  "cells": [
    {
      "cell_type": "markdown",
      "metadata": {
        "id": "view-in-github",
        "colab_type": "text"
      },
      "source": [
        "<a href=\"https://colab.research.google.com/github/naveen8584/SimpleWebApp/blob/master/Lists_and_Dictionary.ipynb\" target=\"_parent\"><img src=\"https://colab.research.google.com/assets/colab-badge.svg\" alt=\"Open In Colab\"/></a>"
      ]
    },
    {
      "cell_type": "markdown",
      "source": [
        "Lists\n",
        "\n",
        "A list in Python is a collection of ordered, changeable (mutable) items that can hold elements of different data types (integers, strings, floats, other lists, etc.)"
      ],
      "metadata": {
        "id": "PwRMO0M30t4m"
      }
    },
    {
      "cell_type": "code",
      "execution_count": null,
      "metadata": {
        "colab": {
          "base_uri": "https://localhost:8080/"
        },
        "id": "dH3DtAsB0jx_",
        "outputId": "8f82ced4-ad0b-4ab3-8b97-23ba0e5a9ed5"
      },
      "outputs": [
        {
          "output_type": "stream",
          "name": "stdout",
          "text": [
            "3\n",
            "5\n",
            "[1, 2, 3, 4, 5, 6, 10]\n",
            "[1, 2, 3, 40, 4, 5, 6, 10]\n",
            "[1, 2, 3, 40, 4, 5, 6, 10, 5, 6, 7, 8, 9]\n"
          ]
        }
      ],
      "source": [
        "# accessing an individual element from the given list\n",
        "\n",
        "list1 = [1,2,3,4,5]\n",
        "print(list1[2])\n",
        "\n",
        "# length of the elements present in the list\n",
        "\n",
        "print(len(list1))\n",
        "\n",
        "# modifying the list elements\n",
        "\n",
        "# 1.append --- added to the value at end\n",
        "\n",
        "list1.append(6)\n",
        "list1.append(10)\n",
        "print(list1)\n",
        "\n",
        "#2. insert --- they are list1 of index same particular place add same value use\n",
        "              # to insert\n",
        "\n",
        "list1.insert(3,40)\n",
        "print(list1)\n",
        "\n",
        "# 3. extend --- extend use to add multiple value to the end of the list\n",
        "\n",
        "list1.extend([5,6,7,8,9])\n",
        "print(list1)\n"
      ]
    },
    {
      "cell_type": "markdown",
      "source": [
        "Removing\n",
        "\n",
        "In Python, \"removing\" usually refers to deleting elements from a data structure like a list.\n",
        "\n",
        "When working with lists, there are several ways to remove elements"
      ],
      "metadata": {
        "id": "NQ9NaMqX4tZw"
      }
    },
    {
      "cell_type": "code",
      "source": [
        "# pop -- they are removing end of elements but give pop index give same value\n",
        "         # position 0,1,2 removing that value\n",
        "\n",
        "list1 = [1,2,3,4,5]\n",
        "list1.pop()\n",
        "print(list1)\n",
        "list1.pop(2)\n",
        "print(list1)\n",
        "\n",
        "# Remove -- they are used to remove you have to passing the value and using pop\n",
        "             #you have to passing index value\n",
        "\n",
        "list2 = [1,2,3,4,5,20,30,40,50,70]\n",
        "list2.remove(40)\n",
        "print(list2)\n",
        "\n",
        "# clear --they are used to clear the elements of list but list value was stored\n",
        "#in memory\n",
        "\n",
        "list2.clear()\n",
        "print(list2)\n",
        "\n"
      ],
      "metadata": {
        "colab": {
          "base_uri": "https://localhost:8080/"
        },
        "id": "oPHlGDdj5CZt",
        "outputId": "8889900b-5e23-475b-fa27-bf4ce89847ba"
      },
      "execution_count": null,
      "outputs": [
        {
          "output_type": "stream",
          "name": "stdout",
          "text": [
            "[1, 2, 3, 4]\n",
            "[1, 2, 4]\n",
            "[1, 2, 3, 4, 5, 20, 30, 50, 70]\n",
            "[]\n"
          ]
        }
      ]
    },
    {
      "cell_type": "code",
      "source": [
        "#delete -- they are delete total value and memory also\n",
        "list3 = [1,2,3,4,5]\n",
        "del list3\n",
        "print(list3)\n"
      ],
      "metadata": {
        "colab": {
          "base_uri": "https://localhost:8080/",
          "height": 176
        },
        "id": "T_6roAus_T0K",
        "outputId": "2951e978-4b57-4d6c-e345-fb9bd16ee1ad"
      },
      "execution_count": null,
      "outputs": [
        {
          "output_type": "error",
          "ename": "NameError",
          "evalue": "name 'list3' is not defined",
          "traceback": [
            "\u001b[0;31m---------------------------------------------------------------------------\u001b[0m",
            "\u001b[0;31mNameError\u001b[0m                                 Traceback (most recent call last)",
            "\u001b[0;32m/tmp/ipython-input-15-450235234.py\u001b[0m in \u001b[0;36m<cell line: 0>\u001b[0;34m()\u001b[0m\n\u001b[1;32m      2\u001b[0m \u001b[0mlist3\u001b[0m \u001b[0;34m=\u001b[0m \u001b[0;34m(\u001b[0m\u001b[0;36m1\u001b[0m\u001b[0;34m,\u001b[0m\u001b[0;36m2\u001b[0m\u001b[0;34m,\u001b[0m\u001b[0;36m3\u001b[0m\u001b[0;34m,\u001b[0m\u001b[0;36m4\u001b[0m\u001b[0;34m,\u001b[0m\u001b[0;36m5\u001b[0m\u001b[0;34m)\u001b[0m\u001b[0;34m\u001b[0m\u001b[0;34m\u001b[0m\u001b[0m\n\u001b[1;32m      3\u001b[0m \u001b[0;32mdel\u001b[0m \u001b[0mlist3\u001b[0m\u001b[0;34m\u001b[0m\u001b[0;34m\u001b[0m\u001b[0m\n\u001b[0;32m----> 4\u001b[0;31m \u001b[0mprint\u001b[0m\u001b[0;34m(\u001b[0m\u001b[0mlist3\u001b[0m\u001b[0;34m)\u001b[0m\u001b[0;34m\u001b[0m\u001b[0;34m\u001b[0m\u001b[0m\n\u001b[0m",
            "\u001b[0;31mNameError\u001b[0m: name 'list3' is not defined"
          ]
        }
      ]
    },
    {
      "cell_type": "code",
      "source": [
        "# copy list-- they are copy list used to one variable value is add to another\n",
        "# veriable and after old variable delete no problem but that value stored in\n",
        "# new variable\n",
        "\n",
        "list1 = [1,2,3,4,5,6]\n",
        "list2 = list1.copy()\n",
        "print(list1)\n",
        "print(list2)\n",
        "list2.append(10)\n",
        "print(list1)\n",
        "print(list2)\n",
        "\n",
        "\n",
        "# Reverse\n",
        "list1.reverse()\n",
        "print(list1)\n",
        "\n",
        "\n",
        "# Sort -- they are sort is value set correct order and reverse also\n",
        "\n",
        "list1 = [1,1,2,4,6,8,2,15,4,10,3,25,22,9]\n",
        "list1.sort()\n",
        "print(list1)\n",
        "\n",
        "list1.sort(reverse= True)\n",
        "print(list1)\n"
      ],
      "metadata": {
        "colab": {
          "base_uri": "https://localhost:8080/"
        },
        "id": "sSEMPdy1AGcK",
        "outputId": "e20329aa-f590-4ab2-9c06-cea678106446"
      },
      "execution_count": null,
      "outputs": [
        {
          "output_type": "stream",
          "name": "stdout",
          "text": [
            "[1, 2, 3, 4, 5, 6]\n",
            "[1, 2, 3, 4, 5, 6]\n",
            "[1, 2, 3, 4, 5, 6]\n",
            "[1, 2, 3, 4, 5, 6, 10]\n",
            "[6, 5, 4, 3, 2, 1]\n",
            "[1, 1, 2, 2, 3, 4, 4, 6, 8, 9, 10, 15, 22, 25]\n",
            "[25, 22, 15, 10, 9, 8, 6, 4, 4, 3, 2, 2, 1, 1]\n"
          ]
        }
      ]
    },
    {
      "cell_type": "markdown",
      "source": [
        "Dictionary\n",
        "A Python dictionary is an unordered, mutable, and indexed collection of items. It stores data in key-value pairs, where each key is unique and maps to a specific value.\n",
        "\n"
      ],
      "metadata": {
        "id": "ANCbGk5DAF8U"
      }
    },
    {
      "cell_type": "code",
      "source": [
        "# Dict\n",
        "\n",
        "dict1 = {\n",
        "    \"name\" : \"naveen\",\n",
        "    \"age\" : 15,\n",
        "    \"class\" : '10th',\n",
        "    \"section\" : 'c',\n",
        "    \"percentage\" : '90'\n",
        "}\n",
        "\n",
        "# how can i access the individual element from the dictionry\n",
        "\n",
        "print(dict1[\"name\"])\n",
        "\n",
        "print(dict1.get('name1',None))  # if key is avalaible it return the value and\n",
        "                                # if not avaliable give to print None\n",
        "\n",
        "# Adding/ Modifying new elements to the given dictionary\n",
        "#updating and existing value\n",
        "\n",
        "dict1[\"name\"] = 'prashi'\n",
        "print(dict1)\n",
        "\n",
        "# adding new values\n",
        "\n",
        "dict1.update({\"blood group\":'A+', \"name\":'hanuma'})\n",
        "print(dict1)\n",
        "\n",
        "# Removing elements from the dictionary\n",
        "\n",
        "# pop\n",
        "dict1.pop(\"blood group\")  # removing mention value\n",
        "print(dict1)\n",
        "\n",
        "# Popitem\n",
        "\n",
        "dict1.popitem()  # popitem also removing ending of the element\n",
        "print(dict1)\n",
        "\n",
        "# copy\n",
        "\n",
        "dict2 = dict1.copy()\n",
        "print(dict1)           # copy dict1 key and values at dict2 and added same\n",
        "print(dict2)             # key and values at dict2\n",
        "\n",
        "dict2.update({\"abc\":'abuhkksjijdkjds'})\n",
        "print(dict1)\n",
        "print(dict2)\n",
        "\n",
        "\n",
        "# Finding keys and values separately\n",
        "\n",
        "print(dict1.keys())\n",
        "print(dict1.values())\n",
        "\n",
        "print(list(dict1.keys()))\n",
        "print(list(dict1.values()))"
      ],
      "metadata": {
        "colab": {
          "base_uri": "https://localhost:8080/"
        },
        "id": "KLuiWqAsLcBe",
        "outputId": "4da55b7b-7cbc-42f7-eea7-d1ba5e834e50"
      },
      "execution_count": 12,
      "outputs": [
        {
          "output_type": "stream",
          "name": "stdout",
          "text": [
            "naveen\n",
            "None\n",
            "{'name': 'prashi', 'age': 15, 'class': '10th', 'section': 'c', 'percentage': '90'}\n",
            "{'name': 'hanuma', 'age': 15, 'class': '10th', 'section': 'c', 'percentage': '90', 'blood group': 'A+'}\n",
            "{'name': 'hanuma', 'age': 15, 'class': '10th', 'section': 'c', 'percentage': '90'}\n",
            "{'name': 'hanuma', 'age': 15, 'class': '10th', 'section': 'c'}\n",
            "{'name': 'hanuma', 'age': 15, 'class': '10th', 'section': 'c'}\n",
            "{'name': 'hanuma', 'age': 15, 'class': '10th', 'section': 'c'}\n",
            "{'name': 'hanuma', 'age': 15, 'class': '10th', 'section': 'c'}\n",
            "{'name': 'hanuma', 'age': 15, 'class': '10th', 'section': 'c', 'abc': 'abuhkksjijdkjds'}\n",
            "dict_keys(['name', 'age', 'class', 'section'])\n",
            "dict_values(['hanuma', 15, '10th', 'c'])\n",
            "['name', 'age', 'class', 'section']\n",
            "['hanuma', 15, '10th', 'c']\n"
          ]
        }
      ]
    }
  ]
}