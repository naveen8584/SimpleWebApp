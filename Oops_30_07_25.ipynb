{
  "nbformat": 4,
  "nbformat_minor": 0,
  "metadata": {
    "colab": {
      "provenance": [],
      "authorship_tag": "ABX9TyNK8fxIdG5iLYHDjx4VX9n6",
      "include_colab_link": true
    },
    "kernelspec": {
      "name": "python3",
      "display_name": "Python 3"
    },
    "language_info": {
      "name": "python"
    }
  },
  "cells": [
    {
      "cell_type": "markdown",
      "metadata": {
        "id": "view-in-github",
        "colab_type": "text"
      },
      "source": [
        "<a href=\"https://colab.research.google.com/github/naveen8584/SimpleWebApp/blob/master/Oops_30_07_25.ipynb\" target=\"_parent\"><img src=\"https://colab.research.google.com/assets/colab-badge.svg\" alt=\"Open In Colab\"/></a>"
      ]
    },
    {
      "cell_type": "code",
      "execution_count": null,
      "metadata": {
        "colab": {
          "base_uri": "https://localhost:8080/"
        },
        "id": "gcFZ2j3DncAG",
        "outputId": "9ad447eb-b513-4e80-cf2a-af8b03d76a5b"
      },
      "outputs": [
        {
          "output_type": "stream",
          "name": "stdout",
          "text": [
            "name of the student is - Naveen and age is - 25\n",
            "student roll number - 143\n"
          ]
        }
      ],
      "source": [
        "class personclass:\n",
        "    def __init__(self, name, age):\n",
        "        self.name = name\n",
        "        self.age = age\n",
        "    def display_name_age(self):\n",
        "        return f'name of the student is - {self.name} and age is - {self.age}'\n",
        "\n",
        "class Studentclass:\n",
        "    def __init__(self, roll_number, _class, section, percentage):\n",
        "        self.roll_number = roll_number\n",
        "        self._class = _class\n",
        "        self.section = section\n",
        "        self.percentage = percentage\n",
        "    def display_student_info(self):\n",
        "        return f'student roll number - {self.roll_number}'\n",
        "\n",
        "person1 = personclass('Naveen', 25)\n",
        "student1 = Studentclass(143, '10th', 'B', 73.5)\n",
        "\n",
        "print(person1.display_name_age())\n",
        "print(student1.display_student_info())"
      ]
    },
    {
      "cell_type": "code",
      "source": [
        "class personclass:\n",
        "    def __init__(self, name, age):\n",
        "        self.name = name\n",
        "        self.age = age\n",
        "    def display_name_age(self):\n",
        "        return f'name of the student is - {self.name} and age is - {self.age}'\n",
        "\n",
        "class Studentclass(personclass):\n",
        "    def __init__(self, name, age, roll_number, _class, section, percentage):\n",
        "        super().__init__(name, age)\n",
        "        self.roll_number = roll_number\n",
        "        self._class = _class\n",
        "        self.section = section\n",
        "        self.percentage = percentage\n",
        "    def display_student_info(self):\n",
        "        return f'student roll number - {self.roll_number}'\n",
        "\n",
        "#person1 = personclass('Naveen', 25)\n",
        "student1 = Studentclass('Naveen', 25, 143, '10th', 'B', 73.5)\n",
        "\n",
        "#print(person1.display_name_age())\n",
        "print(student1.display_name_age())\n",
        "print(student1.display_student_info())"
      ],
      "metadata": {
        "colab": {
          "base_uri": "https://localhost:8080/"
        },
        "id": "p5O4E3pzt1AR",
        "outputId": "86147835-bcce-44c7-a4a9-a9741ce50988"
      },
      "execution_count": null,
      "outputs": [
        {
          "output_type": "stream",
          "name": "stdout",
          "text": [
            "name of the student is - Naveen and age is - 25\n",
            "student roll number - 143\n"
          ]
        }
      ]
    },
    {
      "cell_type": "code",
      "source": [
        "class personclass:\n",
        "    def __init__(self, name, age):\n",
        "        self.name = name\n",
        "        self.age = age\n",
        "    def display_name_age(self):\n",
        "        return f'name of the student is - {self.name} and age is - {self.age}'\n",
        "\n",
        "class Studentclass(personclass):\n",
        "    def __init__(self, name, age, roll_number, _class, section, percentage):\n",
        "        super().__init__(name, age)\n",
        "        self.roll_number = roll_number\n",
        "        self._class = _class\n",
        "        self.section = section\n",
        "        self.percentage = percentage\n",
        "    def display_student_info(self):\n",
        "        return f'''\n",
        "        student info\n",
        "        name - {self.name}\n",
        "        age - {self.age}\n",
        "        roll_number - {self.roll_number}\n",
        "        _class - {self._class}\n",
        "        section - {self.section}\n",
        "        percentage - {self.percentage}\n",
        "        '''\n",
        "\n",
        "#person1 = personclass('Naveen', 25)\n",
        "student1 = Studentclass('Naveen', 25, 143, '10th', 'B', 73.5)\n",
        "\n",
        "#print(person1.display_name_age())\n",
        "print(student1.display_name_age())\n",
        "print(student1.display_student_info())"
      ],
      "metadata": {
        "colab": {
          "base_uri": "https://localhost:8080/"
        },
        "id": "BV3sPMgFvdI6",
        "outputId": "3fa2b08f-071a-4c46-aa8d-e42dd6207ece"
      },
      "execution_count": null,
      "outputs": [
        {
          "output_type": "stream",
          "name": "stdout",
          "text": [
            "name of the student is - Naveen and age is - 25\n",
            "\n",
            "        student info\n",
            "        name - Naveen\n",
            "        age - 25\n",
            "        roll_number - 143\n",
            "        _class - 10th\n",
            "        section - B\n",
            "        percentage - 73.5\n",
            "        \n"
          ]
        }
      ]
    },
    {
      "cell_type": "markdown",
      "source": [
        "Definition of Multilevel Inheritance in Python:\n",
        "Multilevel inheritance is a type of inheritance in Python where a class inherits from a child class, which in turn inherits from another parent class.\n",
        "This forms a chain of inheritance across multiple levels."
      ],
      "metadata": {
        "id": "pkesgu-dz7VG"
      }
    },
    {
      "cell_type": "code",
      "source": [
        "class Company:\n",
        "    def __init__(self, name, location):\n",
        "        self.name = name\n",
        "        self.location = location\n",
        "    def Company_info(self):\n",
        "        print(f'Company name-{self.name} and location-{self.location}')\n",
        "\n",
        "class Manager(Company):\n",
        "    def __init__(self, name, location, manager_name, department):\n",
        "        super().__init__(name, location)\n",
        "        self.manager_name = manager_name\n",
        "        self.department = department\n",
        "    def Manager_info(self):\n",
        "        print(f'Manager Name-{self.manager_name} and Department-{self.department}')\n",
        "\n",
        "class Teamlead(Manager):\n",
        "    def __init__(self, name, location, manager_name, department, teamlead_name, project_name):\n",
        "        super().__init__(name, location, manager_name, department)\n",
        "        self.teamlead_name = teamlead_name\n",
        "        self.project_name = project_name\n",
        "    def Teamlead_info(self):\n",
        "        print(f'Teamlead Name-{self.teamlead_name} and Project Name-{self.project_name}')\n",
        "\n",
        "teamlead = Teamlead('techcorp', 'newyork', 'Naveen','AI/ML','manoj', 'AI-project')\n",
        "teamlead.Company_info()\n",
        "teamlead.Manager_info()\n",
        "teamlead.Teamlead_info()"
      ],
      "metadata": {
        "id": "OdONlRmd8ptq",
        "colab": {
          "base_uri": "https://localhost:8080/"
        },
        "outputId": "f4e1b09d-0d09-4c62-d8fa-1d4a9b46141b"
      },
      "execution_count": 3,
      "outputs": [
        {
          "output_type": "stream",
          "name": "stdout",
          "text": [
            "Company name-techcorp and location-newyork\n",
            "Manager Name-Naveen and Department-AI/ML\n",
            "Teamlead Name-manoj and Project Name-AI-project\n"
          ]
        }
      ]
    },
    {
      "cell_type": "markdown",
      "source": [],
      "metadata": {
        "id": "r36ZXCxu8uKZ"
      }
    },
    {
      "cell_type": "code",
      "source": [
        "class Person:\n",
        "    def __init__(self, name, age):\n",
        "        self.name = name\n",
        "        self.age = age\n",
        "    def personal_info(self):\n",
        "        print(f'name is - {self.name} and age is - {self.age}')\n",
        "\n",
        "class Employee:\n",
        "    def __init__(self, employee_id, department):\n",
        "        self.employee_id = employee_id\n",
        "        self.department = department\n",
        "    def provide_employee_information(self):\n",
        "        print(f'employee id - {self.employee_id} and department is - {self.department}')\n",
        "\n",
        "class Developer(Person, Employee):\n",
        "    def __init__(self, name, age, employee_id, department):\n",
        "        Person.__init__(self, name, age)\n",
        "        Employee.__init__(self, employee_id, department)\n",
        "    def work(self):\n",
        "        print('developing code')\n",
        "\n",
        "developer = Developer('Naveen', 25, 143, 'development')\n",
        "developer.personal_info()\n",
        "developer.provide_employee_information()\n",
        "developer.work()"
      ],
      "metadata": {
        "colab": {
          "base_uri": "https://localhost:8080/"
        },
        "id": "7XnQNb_m8utR",
        "outputId": "784beaa7-8bcd-4ee6-b9cc-63a48d639748"
      },
      "execution_count": null,
      "outputs": [
        {
          "output_type": "stream",
          "name": "stdout",
          "text": [
            "name is - Naveen and age is - 25\n",
            "employee id - 143 and department is - development\n",
            "developing code\n"
          ]
        }
      ]
    },
    {
      "cell_type": "markdown",
      "source": [
        "Definition of Polymorphism in Python (and OOP):\n",
        "Polymorphism is a core concept in Object-Oriented Programming (OOP) that means \"many forms\". It allows objects of different classes to be treated as objects of a common superclass. More simply, it enables the same method or function to behave differently based on the object it is acting upon."
      ],
      "metadata": {
        "id": "NBAX6t7jk8a3"
      }
    },
    {
      "cell_type": "markdown",
      "source": [
        " Definition of Dynamic Polymorphism:\n",
        "Dynamic polymorphism (also known as runtime polymorphism) is a type of polymorphism where the method that gets invoked is determined at runtime, not at compile time. It is achieved through method overriding in object-oriented programming."
      ],
      "metadata": {
        "id": "v0e6j3imn7zY"
      }
    },
    {
      "cell_type": "code",
      "source": [
        "class Cat:\n",
        "    def sound(self):\n",
        "        return \"Meow\"\n",
        "\n",
        "\n",
        "class Dog:\n",
        "    def sound(self):\n",
        "        return \"Bark\"\n",
        "\n",
        "\n",
        "def animal_sound(animal):\n",
        "    print(animal.sound())\n",
        "\n",
        "cat = Cat()\n",
        "dog = Dog()\n",
        "animal_sound(cat)\n",
        "animal_sound(dog)"
      ],
      "metadata": {
        "colab": {
          "base_uri": "https://localhost:8080/"
        },
        "id": "QF7TPc4Kk98c",
        "outputId": "c2d9f2ef-b622-4e0a-9291-b53deb9da874"
      },
      "execution_count": 4,
      "outputs": [
        {
          "output_type": "stream",
          "name": "stdout",
          "text": [
            "Meow\n",
            "Bark\n"
          ]
        }
      ]
    },
    {
      "cell_type": "code",
      "source": [
        "class Cat:\n",
        "    def sound(self):\n",
        "        return \"Meow\"\n",
        "\n",
        "    def behavior(self):\n",
        "        return 'Cats can clime'\n",
        "\n",
        "class Dog:\n",
        "    def sound(self):\n",
        "        return \"Bark\"\n",
        "\n",
        "    def behavior(self):\n",
        "        return 'dogs can jump'\n",
        "\n",
        "def animal_properties(animal):\n",
        "    print(animal.sound())\n",
        "    print(animal.behavior())\n",
        "\n",
        "cat = Cat()\n",
        "dog = Dog()\n",
        "animal_properties(cat)\n",
        "animal_properties(dog)"
      ],
      "metadata": {
        "colab": {
          "base_uri": "https://localhost:8080/"
        },
        "id": "LqRUSzbBpzf3",
        "outputId": "5e56a02f-3dd7-4699-9b54-b812e6258f9b"
      },
      "execution_count": 6,
      "outputs": [
        {
          "output_type": "stream",
          "name": "stdout",
          "text": [
            "Meow\n",
            "Cats can clime\n",
            "Bark\n",
            "dogs can jump\n"
          ]
        }
      ]
    },
    {
      "cell_type": "markdown",
      "source": [
        " Definition of Polymorphism with Inheritance:\n",
        "Polymorphism with inheritance occurs when a child class inherits methods from a parent class and then overrides those methods to provide a different implementation. This allows the same method name to behave differently depending on the object’s class."
      ],
      "metadata": {
        "id": "NWOCvtPQuZ1W"
      }
    },
    {
      "cell_type": "code",
      "source": [
        "class vehicle:\n",
        "    def start(self):\n",
        "        return 'vehicle is starting'\n",
        "\n",
        "class Car(vehicle):\n",
        "    def start(self):\n",
        "        return 'car is starting'\n",
        "\n",
        "class Bike(vehicle):\n",
        "    def start(self):\n",
        "        return 'bike is starting'\n",
        "\n",
        "def vehicle_start(vehicle):\n",
        "    print(vehicle.start())\n",
        "\n",
        "car = Car()\n",
        "bike = Bike()\n",
        "vehicle_start(car)\n",
        "vehicle_start(bike)"
      ],
      "metadata": {
        "colab": {
          "base_uri": "https://localhost:8080/"
        },
        "id": "RG1QUyyFubFC",
        "outputId": "57875b56-4ea9-4665-c419-48724cd326c6"
      },
      "execution_count": 7,
      "outputs": [
        {
          "output_type": "stream",
          "name": "stdout",
          "text": [
            "car is starting\n",
            "bike is starting\n"
          ]
        }
      ]
    },
    {
      "cell_type": "markdown",
      "source": [
        "✅ Definition of Encapsulation in Python (and OOP):\n",
        "Encapsulation is one of the core principles of Object-Oriented Programming (OOP). It refers to binding data (attributes) and methods (functions) together into a single unit (class) and restricting direct access to some of the object’s components to protect the data from unauthorized access or modification."
      ],
      "metadata": {
        "id": "qKLZSODS15T6"
      }
    },
    {
      "cell_type": "code",
      "source": [
        "class BankAccount:\n",
        "    def __init__(self, account_number, __balance):\n",
        "        self.__account_number = account_number\n",
        "        self.__balance = __balance\n",
        "\n",
        "    def deposit(self, amount):\n",
        "        self.__balance += amount\n",
        "        print(f'Deposited{amount}. New __balance is{self.__balance}.')\n",
        "\n",
        "    def withdraw(self, amount):\n",
        "        if amount > self.__balance:\n",
        "            print('insufficient funds.')\n",
        "        else:\n",
        "            self.__balance -=amount\n",
        "            print(f'withdraw{amount}. New __balance is {self.__balance}.')\n",
        "\n",
        "    def get_balance(self):\n",
        "        return self.__balance\n",
        "\n",
        "account = BankAccount('12345678', 1000)\n",
        "print(account.__balance)"
      ],
      "metadata": {
        "colab": {
          "base_uri": "https://localhost:8080/",
          "height": 176
        },
        "id": "DNKFqWMH157r",
        "outputId": "b08f48a3-af05-4279-a0c9-19e7f447eca8"
      },
      "execution_count": 8,
      "outputs": [
        {
          "output_type": "error",
          "ename": "AttributeError",
          "evalue": "'BankAccount' object has no attribute '__balance'",
          "traceback": [
            "\u001b[0;31m---------------------------------------------------------------------------\u001b[0m",
            "\u001b[0;31mAttributeError\u001b[0m                            Traceback (most recent call last)",
            "\u001b[0;32m/tmp/ipython-input-8-3217795270.py\u001b[0m in \u001b[0;36m<cell line: 0>\u001b[0;34m()\u001b[0m\n\u001b[1;32m     19\u001b[0m \u001b[0;34m\u001b[0m\u001b[0m\n\u001b[1;32m     20\u001b[0m \u001b[0maccount\u001b[0m \u001b[0;34m=\u001b[0m \u001b[0mBankAccount\u001b[0m\u001b[0;34m(\u001b[0m\u001b[0;34m'12345678'\u001b[0m\u001b[0;34m,\u001b[0m \u001b[0;36m1000\u001b[0m\u001b[0;34m)\u001b[0m\u001b[0;34m\u001b[0m\u001b[0;34m\u001b[0m\u001b[0m\n\u001b[0;32m---> 21\u001b[0;31m \u001b[0mprint\u001b[0m\u001b[0;34m(\u001b[0m\u001b[0maccount\u001b[0m\u001b[0;34m.\u001b[0m\u001b[0m__balance\u001b[0m\u001b[0;34m)\u001b[0m\u001b[0;34m\u001b[0m\u001b[0;34m\u001b[0m\u001b[0m\n\u001b[0m",
            "\u001b[0;31mAttributeError\u001b[0m: 'BankAccount' object has no attribute '__balance'"
          ]
        }
      ]
    },
    {
      "cell_type": "code",
      "source": [
        "class BankAccount:\n",
        "    def __init__(self, account_number, balance):\n",
        "        self.__account_number = account_number\n",
        "        self.balance = balance\n",
        "\n",
        "    def deposit(self, amount):\n",
        "        self.balance += amount\n",
        "        print(f'Deposited{amount}. New balance is{self.balance}.')\n",
        "\n",
        "    def withdraw(self, amount):\n",
        "        if amount > self.balance:\n",
        "            print('insufficient funds.')\n",
        "        else:\n",
        "            self.balance -=amount\n",
        "            print(f'withdraw{amount}. New balance is {self.balance}.')\n",
        "\n",
        "    def get_balance(self):\n",
        "        return self.balance\n",
        "\n",
        "account = BankAccount('12345678', 1000)\n",
        "print(account.balance)"
      ],
      "metadata": {
        "colab": {
          "base_uri": "https://localhost:8080/"
        },
        "id": "g4bJhRWe2E8L",
        "outputId": "f8d91435-3fbd-4b87-ab5d-3bdc83366b06"
      },
      "execution_count": 9,
      "outputs": [
        {
          "output_type": "stream",
          "name": "stdout",
          "text": [
            "1000\n"
          ]
        }
      ]
    },
    {
      "cell_type": "code",
      "source": [
        "class BankAccount:\n",
        "    def __init__(self, account_number, balance):\n",
        "        self.__account_number = account_number\n",
        "        self.balance = balance\n",
        "\n",
        "    def deposit(self, amount):\n",
        "        self.balance += amount\n",
        "        return (f'Deposited{amount}. New balance is{self.balance}.')\n",
        "\n",
        "    def withdraw(self, amount):\n",
        "        if amount > self.balance:\n",
        "            print('insufficient funds.')\n",
        "        else:\n",
        "            self.balance -=amount\n",
        "            print(f'withdraw{amount}. New balance is {self.balance}.')\n",
        "\n",
        "    def get_balance(self):\n",
        "        return self.balance\n",
        "\n",
        "    def get_deposit_value(self, amount):\n",
        "        return self.deposit(amount)\n",
        "\n",
        "account = BankAccount('12345678', 1000)\n",
        "print(account.get_deposit_value(500))"
      ],
      "metadata": {
        "colab": {
          "base_uri": "https://localhost:8080/"
        },
        "id": "9OeSxhYN4eX-",
        "outputId": "271f047d-350b-418b-da8a-62bd45799d63"
      },
      "execution_count": 12,
      "outputs": [
        {
          "output_type": "stream",
          "name": "stdout",
          "text": [
            "Deposited500. New balance is1500.\n"
          ]
        }
      ]
    },
    {
      "cell_type": "markdown",
      "source": [
        " Definition of Abstraction in Python (and OOP):\n",
        "Abstraction is an Object-Oriented Programming (OOP) principle that means hiding the internal details and showing only the essential features of an object.\n",
        "\n",
        " In Simple Terms:\n",
        "Abstraction allows you to focus on what an object does instead of how it does it.\n",
        "\n",
        "It helps reduce complexity by hiding unnecessary implementation details and exposing only relevant behavior."
      ],
      "metadata": {
        "id": "pjup_hwcFY_z"
      }
    },
    {
      "cell_type": "code",
      "source": [
        "from abc import ABC, abstractmethod\n",
        "\n",
        "class shape(ABC):\n",
        "    @abstractmethod\n",
        "    def area(self):\n",
        "        pass\n",
        "\n",
        "    @abstractmethod\n",
        "    def perimeter(self):\n",
        "        pass\n",
        "\n",
        "class Rectangle(shape):\n",
        "    def __init__(self, width, height):\n",
        "        self.width = width\n",
        "        self.height = height\n",
        "\n",
        "    def area(self):\n",
        "        return self.width*self.height\n",
        "\n",
        "    def perimeter(self):\n",
        "        return 2*(self.width+self.height)\n",
        "\n",
        "class Circle(shape):\n",
        "    def __init__(self, radius):\n",
        "        self.radius = radius\n",
        "\n",
        "    def area(self):\n",
        "        return 3.14*self.radius*self.radius\n",
        "\n",
        "    def perimeter(self):\n",
        "        return 2*3.14*self.radius\n",
        "\n",
        "def print_shape_info(shape):\n",
        "    print(f'area:{shape.area()}')\n",
        "    print(f'perimeter:{shape.perimeter()}')\n",
        "\n",
        "rectangle = Rectangle(10, 5)\n",
        "circle = Circle(7)\n",
        "\n",
        "print_shape_info(rectangle)\n",
        "print_shape_info(circle)"
      ],
      "metadata": {
        "colab": {
          "base_uri": "https://localhost:8080/"
        },
        "id": "nmehig7YFZsG",
        "outputId": "4501d38b-86f0-4d70-af68-e941823fe486"
      },
      "execution_count": 17,
      "outputs": [
        {
          "output_type": "stream",
          "name": "stdout",
          "text": [
            "area:50\n",
            "perimeter:30\n",
            "area:153.86\n",
            "perimeter:43.96\n"
          ]
        }
      ]
    }
  ]
}