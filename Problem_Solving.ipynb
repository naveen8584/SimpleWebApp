{
  "nbformat": 4,
  "nbformat_minor": 0,
  "metadata": {
    "colab": {
      "provenance": [],
      "authorship_tag": "ABX9TyMEoLYtLOpkGgE26NG1ZY5D",
      "include_colab_link": true
    },
    "kernelspec": {
      "name": "python3",
      "display_name": "Python 3"
    },
    "language_info": {
      "name": "python"
    }
  },
  "cells": [
    {
      "cell_type": "markdown",
      "metadata": {
        "id": "view-in-github",
        "colab_type": "text"
      },
      "source": [
        "<a href=\"https://colab.research.google.com/github/naveen8584/SimpleWebApp/blob/master/Problem_Solving.ipynb\" target=\"_parent\"><img src=\"https://colab.research.google.com/assets/colab-badge.svg\" alt=\"Open In Colab\"/></a>"
      ]
    },
    {
      "cell_type": "code",
      "source": [
        "## finding the sum of two numbers?\n",
        "\n",
        "# input num1=5,num2=10    out put sum:15\n",
        "\n",
        "num1 = int(input())\n",
        "num2 = int(input())\n",
        "\n",
        "print(\"sum:\",num1+num2,sep=\" \")\n",
        "#or\n",
        "print(f\"sum:{num1+num2}\")"
      ],
      "metadata": {
        "colab": {
          "base_uri": "https://localhost:8080/"
        },
        "id": "ogCiqH1Pax18",
        "outputId": "52dd96d6-1ef6-4b84-b2c1-32f10dbe3bdd"
      },
      "execution_count": 4,
      "outputs": [
        {
          "output_type": "stream",
          "name": "stdout",
          "text": [
            "5\n",
            "10\n",
            "sum: 15\n",
            "sum:15\n"
          ]
        }
      ]
    },
    {
      "cell_type": "code",
      "source": [
        "## finding area of the cricle?\n",
        "# input: radius=5\n",
        "#output: area of the circle:78.53981633974483\n",
        "\n",
        "radius=int(input(\"give radius: \"))      # area = pai*r**\n",
        "a = 3.14*(radius**2)\n",
        "print(\"area of the circle: \",a)\n",
        "print(\"area of the circle: \",a,sep= \" \")\n",
        "print(f\"area of the circle: {a}\")"
      ],
      "metadata": {
        "colab": {
          "base_uri": "https://localhost:8080/"
        },
        "id": "wTavjVl2cbmS",
        "outputId": "f5e27439-c086-45ce-afd6-6398bea2a201"
      },
      "execution_count": 9,
      "outputs": [
        {
          "output_type": "stream",
          "name": "stdout",
          "text": [
            "give radius: 5\n",
            "area of the circle:  78.5\n",
            "area of the circle:  78.5\n",
            "area of the circle: 78.5\n"
          ]
        }
      ]
    },
    {
      "cell_type": "code",
      "source": [
        "# solving quadratic equation?\n",
        "# input: a=1, b=-3,c=2\n",
        "# output: roots:(2.0,1.0)\n",
        "\n",
        "a=int(input(\"give a: \"))         #roots find out\n",
        "b=int(input(\"give b: \"))\n",
        "c=int(input(\"give c: \"))\n",
        "\n",
        "root1=0\n",
        "root2=0\n",
        "d=(b**2)-4*a*c\n",
        "root1=(-b+(d**(0.5)))/2*a\n",
        "root2=(-b-(d**(0.5)))/2*a\n",
        "\n",
        "print(f\"roots:({root1},{root2})\")"
      ],
      "metadata": {
        "colab": {
          "base_uri": "https://localhost:8080/"
        },
        "id": "YevoScyYeaao",
        "outputId": "a1505bf1-2d60-4383-e04b-5bf9dc6c454d"
      },
      "execution_count": 10,
      "outputs": [
        {
          "output_type": "stream",
          "name": "stdout",
          "text": [
            "give a: 1\n",
            "give b: -3\n",
            "give c: 2\n",
            "roots:(2.0,1.0)\n"
          ]
        }
      ]
    },
    {
      "cell_type": "code",
      "source": [
        "# swap the values of two variables without using a temporary variable?\n",
        "# input:a=10,b=20  output:after swapping a=20,b=10\n",
        "\n",
        "a = int(input(\"give value:a \"))\n",
        "b = int(input(\"give value:b \"))\n",
        "temp=a\n",
        "a=b\n",
        "b=temp\n",
        "print(f\"value of a is :{a}  \")\n",
        "print(f\"value of b is :{b}  \")\n",
        "\n",
        "    # OR #\n",
        "a = int(input(\"give value:a \"))\n",
        "b = int(input(\"give value:b \"))\n",
        "b = b+a\n",
        "a = b-a\n",
        "b = b-a\n",
        "print(f\"value of a is: {a}\")\n",
        "print(f\"value of b is: {b}\")\n"
      ],
      "metadata": {
        "colab": {
          "base_uri": "https://localhost:8080/"
        },
        "id": "EwKgcGIdgTag",
        "outputId": "5a824403-c592-41d9-f336-3a57a5b7f007"
      },
      "execution_count": 16,
      "outputs": [
        {
          "output_type": "stream",
          "name": "stdout",
          "text": [
            "give value:a 10\n",
            "give value:b 20\n",
            "value of a is :20  \n",
            "value of b is :10  \n",
            "give value:a 10\n",
            "give value:b 20\n",
            "value of a is: 20\n",
            "value of b is: 10\n"
          ]
        }
      ]
    },
    {
      "cell_type": "code",
      "source": [
        "## converting temperature units?               note: f=c*(9/5)+32\n",
        "# input:temperature_celsius = 30\n",
        "# output: temperature in fahrenheit:86.0, kelvin: 303.15      #k=273+c\n",
        "\n",
        "c = int(input(\"celsius: \"))\n",
        "k = int(input(\"celsius: \"))\n",
        "\n",
        "f=c*(9/5)+32\n",
        "k=273.15+c\n",
        "print(f\"temperature_celsius: {f}\")\n",
        "print(f\"temperature_kelvin: {k}\")\n"
      ],
      "metadata": {
        "colab": {
          "base_uri": "https://localhost:8080/"
        },
        "id": "VII62fWWjvUx",
        "outputId": "e8279f87-2d7e-43d3-e421-0210200f29b6"
      },
      "execution_count": 21,
      "outputs": [
        {
          "output_type": "stream",
          "name": "stdout",
          "text": [
            "celsius: 30\n",
            "celsius: 30\n",
            "temperature_celsius: 86.0\n",
            "temperature_kelvin: 303.15\n"
          ]
        }
      ]
    },
    {
      "cell_type": "code",
      "source": [
        "## basic currency converter?\n",
        "# input: amount_in_usd = 100            note: 1usd=0.85\n",
        "#   exchange_rate_usd_to_eur=0.85             100usd=?\n",
        "#output: equivalent amount in eur:85.0     total=eur*amount\n",
        "\n",
        "amount_in_usd = 100\n",
        "exchange_rate_usd_to_eur = 0.85\n",
        "\n",
        "amount_in_eur=amount_in_usd*exchange_rate_usd_to_eur\n",
        "\n",
        "print(\"equivalent amount in Eur:\", amount_in_eur)"
      ],
      "metadata": {
        "colab": {
          "base_uri": "https://localhost:8080/"
        },
        "id": "9yg_KXt0nV77",
        "outputId": "f225698f-371d-4ba0-a9ac-2af82a8ab451"
      },
      "execution_count": 28,
      "outputs": [
        {
          "output_type": "stream",
          "name": "stdout",
          "text": [
            "equivalent amount in Eur: 85.0\n"
          ]
        }
      ]
    }
  ]
}