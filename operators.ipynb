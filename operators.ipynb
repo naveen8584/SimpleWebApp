{
  "nbformat": 4,
  "nbformat_minor": 0,
  "metadata": {
    "colab": {
      "provenance": [],
      "authorship_tag": "ABX9TyPI754RL20AVep/VVb1t4Qq",
      "include_colab_link": true
    },
    "kernelspec": {
      "name": "python3",
      "display_name": "Python 3"
    },
    "language_info": {
      "name": "python"
    }
  },
  "cells": [
    {
      "cell_type": "markdown",
      "metadata": {
        "id": "view-in-github",
        "colab_type": "text"
      },
      "source": [
        "<a href=\"https://colab.research.google.com/github/naveen8584/SimpleWebApp/blob/master/operators.ipynb\" target=\"_parent\"><img src=\"https://colab.research.google.com/assets/colab-badge.svg\" alt=\"Open In Colab\"/></a>"
      ]
    },
    {
      "cell_type": "code",
      "execution_count": null,
      "metadata": {
        "colab": {
          "base_uri": "https://localhost:8080/",
          "height": 36
        },
        "id": "QARdUV0YH_7M",
        "outputId": "5ba72cef-75eb-4dbc-ad3f-6b2e08f57717"
      },
      "outputs": [
        {
          "output_type": "execute_result",
          "data": {
            "text/plain": [
              "'hello world'"
            ],
            "application/vnd.google.colaboratory.intrinsic+json": {
              "type": "string"
            }
          },
          "metadata": {},
          "execution_count": 1
        }
      ],
      "source": [
        "\"hello world\""
      ]
    },
    {
      "cell_type": "markdown",
      "source": [],
      "metadata": {
        "id": "UiAc_wqhIbnp"
      }
    },
    {
      "cell_type": "markdown",
      "source": [
        "# incremental  decremental operators\n",
        "\n"
      ],
      "metadata": {
        "id": "LVoISUaFIePL"
      }
    },
    {
      "cell_type": "code",
      "source": [
        "a = 10\n",
        "a = a+5\n",
        "a+= 5\n",
        "print(a)\n"
      ],
      "metadata": {
        "colab": {
          "base_uri": "https://localhost:8080/"
        },
        "id": "-VWdQNDHI0xP",
        "outputId": "9843a945-81b0-4db5-c0f2-1e69394ce043"
      },
      "execution_count": null,
      "outputs": [
        {
          "output_type": "stream",
          "name": "stdout",
          "text": [
            "20\n"
          ]
        }
      ]
    },
    {
      "cell_type": "code",
      "source": [
        "#substraction\n",
        "a-= 5\n",
        "print(a)"
      ],
      "metadata": {
        "colab": {
          "base_uri": "https://localhost:8080/"
        },
        "id": "45lJcZjGJdZQ",
        "outputId": "17735715-ec8c-42ec-b3ac-33ce0f10b8ac"
      },
      "execution_count": null,
      "outputs": [
        {
          "output_type": "stream",
          "name": "stdout",
          "text": [
            "15\n"
          ]
        }
      ]
    },
    {
      "cell_type": "code",
      "source": [
        "# multipcation\n",
        "a*= 2\n",
        "print(a)"
      ],
      "metadata": {
        "colab": {
          "base_uri": "https://localhost:8080/"
        },
        "id": "THp4CYTJKIcg",
        "outputId": "3047d60a-e5c9-4447-b07c-ab45614c9531"
      },
      "execution_count": null,
      "outputs": [
        {
          "output_type": "stream",
          "name": "stdout",
          "text": [
            "30\n"
          ]
        }
      ]
    },
    {
      "cell_type": "code",
      "source": [
        "#division\n",
        "a/= 2\n",
        "print(a)"
      ],
      "metadata": {
        "colab": {
          "base_uri": "https://localhost:8080/"
        },
        "id": "TYvC_v50KWzs",
        "outputId": "8bdb424f-7626-40c7-cdf4-ff0ea167acc3"
      },
      "execution_count": null,
      "outputs": [
        {
          "output_type": "stream",
          "name": "stdout",
          "text": [
            "15.0\n"
          ]
        }
      ]
    },
    {
      "cell_type": "code",
      "source": [
        "#power\n",
        "b = 10\n",
        "b**= 5\n",
        "print(b)"
      ],
      "metadata": {
        "colab": {
          "base_uri": "https://localhost:8080/"
        },
        "id": "cOqYpzsxMEYT",
        "outputId": "5fbfd969-02c4-42fe-a964-c1efeabe8d43"
      },
      "execution_count": null,
      "outputs": [
        {
          "output_type": "stream",
          "name": "stdout",
          "text": [
            "100000\n"
          ]
        }
      ]
    },
    {
      "cell_type": "markdown",
      "source": [
        "conditional **operators**"
      ],
      "metadata": {
        "id": "Dg04W35cMwfd"
      }
    },
    {
      "cell_type": "code",
      "source": [
        "n =5\n",
        "b = int(input(\"Enter the number: \"))\n",
        "if b==n:\n",
        "  print(\"Both the numbers are equal\")\n",
        "else:\n",
        "  print(\"Both are not equal\")\n",
        "\n",
        "str1 = \"hello\"\n",
        "str2 = \"Hello\"\n",
        "if str1==str2:\n",
        "  print(\"Both the numbers are equal\")\n",
        "else:\n",
        "  print(\"Both are not equal\")"
      ],
      "metadata": {
        "colab": {
          "base_uri": "https://localhost:8080/"
        },
        "id": "D4PZF_HxM39D",
        "outputId": "bc91c04f-1deb-4417-c2ea-225e733000fe"
      },
      "execution_count": null,
      "outputs": [
        {
          "output_type": "stream",
          "name": "stdout",
          "text": [
            "Enter the number: 5\n",
            "Both the numbers are equal\n",
            "Both are not equal\n"
          ]
        }
      ]
    },
    {
      "cell_type": "code",
      "source": [
        "#Greter than (>)\n",
        "a =15\n",
        "b = 10\n",
        "if a>b:\n",
        "  print(\"a is gretar than b\")\n",
        "else:\n",
        "  print(\"a is lesser than b\")\n",
        "\n",
        "\n",
        "#greater than or equal(>=)\n",
        "\n",
        "a = 15\n",
        "b = 15\n",
        "if a>=b:\n",
        "  print(\"a is gretar than or equal to b\")\n",
        "else:\n",
        "  print(\"a is lesser than b\")\n",
        "\n"
      ],
      "metadata": {
        "colab": {
          "base_uri": "https://localhost:8080/"
        },
        "id": "G5lwU4gBOe6h",
        "outputId": "d3d57b77-4e08-4f60-8173-181cd1d2d89f"
      },
      "execution_count": null,
      "outputs": [
        {
          "output_type": "stream",
          "name": "stdout",
          "text": [
            "a is gretar than b\n",
            "a is gretar than or equal to b\n"
          ]
        }
      ]
    },
    {
      "cell_type": "code",
      "source": [
        "# less than (<)\n",
        "\n",
        "a = 14\n",
        "b = 15\n",
        "if a<b:\n",
        "  print(\"a is less than b\")\n",
        "else:\n",
        "  print(\"a is greate than b\")"
      ],
      "metadata": {
        "colab": {
          "base_uri": "https://localhost:8080/"
        },
        "id": "txvMygWCQBBb",
        "outputId": "a42b0452-cb3a-4517-cc9e-064919523047"
      },
      "execution_count": null,
      "outputs": [
        {
          "output_type": "stream",
          "name": "stdout",
          "text": [
            "a is less than b\n"
          ]
        }
      ]
    },
    {
      "cell_type": "code",
      "source": [
        "# less than or equal\n",
        "\n",
        "a = 15\n",
        "b = 15\n",
        "if a<= b:\n",
        "  print(\"a is lesser than or equal to b\")\n",
        "else:\n",
        "  print(\"a is greater than b\")"
      ],
      "metadata": {
        "colab": {
          "base_uri": "https://localhost:8080/"
        },
        "id": "JA2YM9ycIbqb",
        "outputId": "f761d679-db85-47d8-bd0a-b25c39c7596d"
      },
      "execution_count": null,
      "outputs": [
        {
          "output_type": "stream",
          "name": "stdout",
          "text": [
            "a is lesser than or equal to b\n"
          ]
        }
      ]
    },
    {
      "cell_type": "code",
      "source": [
        "# not equal:(!=)\n",
        "\n",
        "a = 5\n",
        "b = 6\n",
        "if b!=a:\n",
        "  print(\"Both nubers are not equal\")\n",
        "else:\n",
        "  print(\"Both are equal\")\n",
        "\n",
        "str1=\"hello\"\n",
        "str2=\"hello\"\n",
        "if str1!=str2:\n",
        "  print(\"Both are not equal\")\n",
        "else:\n",
        "  print(\"Both are equal \")"
      ],
      "metadata": {
        "colab": {
          "base_uri": "https://localhost:8080/"
        },
        "id": "9rjY8J9XJEVG",
        "outputId": "412671a2-950b-4daa-8993-7927447bc8b4"
      },
      "execution_count": null,
      "outputs": [
        {
          "output_type": "stream",
          "name": "stdout",
          "text": [
            "Both nubers are not equal\n",
            "Both are equal \n"
          ]
        }
      ]
    },
    {
      "cell_type": "markdown",
      "source": [
        "Logical operators"
      ],
      "metadata": {
        "id": "cJTETSKULg_x"
      }
    },
    {
      "cell_type": "code",
      "source": [
        "# and\n",
        "a=5\n",
        "b=10\n",
        "c=8\n",
        "if a<b and b<c:\n",
        "  print(\"a is is the smaller the b and b is smaller than c\")\n",
        "else:\n",
        "  print(\"b is the greter then c\")"
      ],
      "metadata": {
        "colab": {
          "base_uri": "https://localhost:8080/"
        },
        "id": "OgLhhbo_Lrd0",
        "outputId": "eaf74f77-963b-42f4-bd59-073f72ec1912"
      },
      "execution_count": null,
      "outputs": [
        {
          "output_type": "stream",
          "name": "stdout",
          "text": [
            "b is the greter then c\n"
          ]
        }
      ]
    },
    {
      "cell_type": "code",
      "source": [
        "# or\n",
        "\n",
        "a=5\n",
        "b=10\n",
        "c=8\n",
        "if a<b or b<c:\n",
        "  print(\"a is is the smaller the b and b is smaller than c\")\n",
        "else:\n",
        "  print(\"b is the greter then c\")"
      ],
      "metadata": {
        "colab": {
          "base_uri": "https://localhost:8080/"
        },
        "id": "3Gvw_p3IKCLA",
        "outputId": "e692841e-306a-42a5-a0d7-3a6776ff5f90"
      },
      "execution_count": null,
      "outputs": [
        {
          "output_type": "stream",
          "name": "stdout",
          "text": [
            "a is is the smaller the b and b is smaller than c\n"
          ]
        }
      ]
    },
    {
      "cell_type": "code",
      "source": [
        "#not\n",
        "a='sample'\n",
        "if not a == 'sample':\n",
        "  print(\"a is not equal to sample\")\n",
        "else:\n",
        "  print(\"a is equal to sample\")\n",
        "\n",
        "\n",
        "#ex-2\n",
        "\n",
        "list1=[1,2,3,4]\n",
        "if not list1:\n",
        "  print(\"list is empty\")\n",
        "\n",
        "else:\n",
        "  print(\"list is not empty\")\n",
        "\n",
        "list1=[1,2,3,4]\n",
        "if list1:\n",
        "  print(\"list is empty\")\n",
        "\n",
        "else:\n",
        "  print(\"list is not empty\")\n"
      ],
      "metadata": {
        "colab": {
          "base_uri": "https://localhost:8080/"
        },
        "id": "hnDKPOwKNcF4",
        "outputId": "771197e8-dadb-4017-de5b-c3fa1bc0cb03"
      },
      "execution_count": null,
      "outputs": [
        {
          "output_type": "stream",
          "name": "stdout",
          "text": [
            "a is equal to sample\n",
            "list is not empty\n",
            "list is empty\n"
          ]
        }
      ]
    },
    {
      "cell_type": "markdown",
      "source": [
        "conditional statements"
      ],
      "metadata": {
        "id": "95h3P0AKQN_4"
      }
    },
    {
      "cell_type": "code",
      "source": [
        "# if\n",
        "\n",
        "num1=5\n",
        "if num1%2 == 0:\n",
        "  print(\"Give number is even number\")\n",
        "\n",
        "\n",
        "# if-else\n",
        "\n",
        "num1 = 5\n",
        "if num1%2 == 0:\n",
        "  print(\"Give numer is even number\")\n",
        "else:\n",
        "  print(\"Give number is odd number\")\n",
        "\n",
        "\n",
        "\n",
        "# if- elif- elif - else\n",
        "\n",
        "num1 = 5\n",
        "num2 = 6\n",
        "if num2>10:\n",
        "  print(\"num2 is greater than 10\")\n",
        "elif num2>8:\n",
        "  print(\"num2 is greater than 8\")\n",
        "elif num2>5:\n",
        "  print(\"num2 is greater than 5\")\n",
        "else:\n",
        "  print(\"num2 is less than 10\")\n",
        "print(\"outside of if condition\")\n",
        "\n",
        "\n",
        "num1 = 5\n",
        "num2 = 9\n",
        "if num2>10:\n",
        "  print(\"num2 is greater than 10\")\n",
        "elif num2>8:\n",
        "  print(\"num2 is greater than 8\")\n",
        "elif num2>5:\n",
        "  print(\"num2 is greater than 5\")\n",
        "else:\n",
        "  print(\"num2 is less than 10\")\n",
        "print(\"outside of if condition\")\n",
        "\n"
      ],
      "metadata": {
        "colab": {
          "base_uri": "https://localhost:8080/"
        },
        "id": "5emxTzllQT5q",
        "outputId": "35910420-3331-490c-e0ff-356f306885fd"
      },
      "execution_count": null,
      "outputs": [
        {
          "output_type": "stream",
          "name": "stdout",
          "text": [
            "Give number is odd number\n",
            "num2 is greater than 5\n",
            "outside of if condition\n",
            "num2 is greater than 8\n",
            "outside of if condition\n"
          ]
        }
      ]
    },
    {
      "cell_type": "markdown",
      "source": [
        "nested if"
      ],
      "metadata": {
        "id": "G5VC-IFmUlWc"
      }
    },
    {
      "cell_type": "code",
      "source": [
        "num2 = 9\n",
        "if num2>10:\n",
        "  print(\"num2 is greater than 10\")\n",
        "if num2>8:\n",
        "  print(\"num2 is greater than 8\")\n",
        "if num2>5:\n",
        "  print(\"num2 is greater than 5\")\n",
        "else:\n",
        "  print(\"num2 is less than 10\")\n",
        "print(\"outside of if condition\")\n",
        "\n",
        "\n",
        "num2 = 1\n",
        "if num2>10:\n",
        "  print(\"num2 is greater than 10\")\n",
        "if num2>8:\n",
        "  print(\"num2 is greater than 8\")\n",
        "if num2>5:\n",
        "  print(\"num2 is greater than 5\")\n",
        "else:\n",
        "  print(\"num2 is less than 10\")\n",
        "print(\"outside of if condition\")"
      ],
      "metadata": {
        "colab": {
          "base_uri": "https://localhost:8080/"
        },
        "id": "B5R8mqSrUsRQ",
        "outputId": "fbdfc6cd-6586-4728-93aa-7e457879f675"
      },
      "execution_count": null,
      "outputs": [
        {
          "output_type": "stream",
          "name": "stdout",
          "text": [
            "num2 is greater than 8\n",
            "num2 is greater than 5\n",
            "outside of if condition\n",
            "num2 is less than 10\n",
            "outside of if condition\n"
          ]
        }
      ]
    },
    {
      "cell_type": "markdown",
      "source": [
        "Output formating"
      ],
      "metadata": {
        "id": "SmSlSmlNWuw5"
      }
    },
    {
      "cell_type": "code",
      "source": [
        "num2=10\n",
        "num3=15\n",
        "print(\"this is a sample print statement\")\n",
        "print(\"this is a sample statement with variable\",num2)\n",
        "\n",
        "\n",
        "## using format keyword\n",
        "\n",
        "print(\"this is sample statement with format key word {0},{1}\" .format(num2,num3))\n",
        "\n",
        "#using f-string\n",
        "\n",
        "print(f\"this is sample statement with format key word {num2} {num3}\")"
      ],
      "metadata": {
        "colab": {
          "base_uri": "https://localhost:8080/"
        },
        "id": "rW-2mW5hWzff",
        "outputId": "f0da0cf8-b02e-4e06-8105-9e664662fa72"
      },
      "execution_count": null,
      "outputs": [
        {
          "output_type": "stream",
          "name": "stdout",
          "text": [
            "this is a sample print statement\n",
            "this is a sample statement with variable 10\n",
            "this is sample statement with format key word 10,15\n",
            "this is sample statement with format key word 10 15\n"
          ]
        }
      ]
    }
  ]
}