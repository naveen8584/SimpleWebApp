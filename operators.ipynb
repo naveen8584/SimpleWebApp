{
  "nbformat": 4,
  "nbformat_minor": 0,
  "metadata": {
    "colab": {
      "provenance": [],
      "authorship_tag": "ABX9TyMgGWp19fE0PtqDvRw1O1mJ",
      "include_colab_link": true
    },
    "kernelspec": {
      "name": "python3",
      "display_name": "Python 3"
    },
    "language_info": {
      "name": "python"
    }
  },
  "cells": [
    {
      "cell_type": "markdown",
      "metadata": {
        "id": "view-in-github",
        "colab_type": "text"
      },
      "source": [
        "<a href=\"https://colab.research.google.com/github/naveen8584/SimpleWebApp/blob/master/operators.ipynb\" target=\"_parent\"><img src=\"https://colab.research.google.com/assets/colab-badge.svg\" alt=\"Open In Colab\"/></a>"
      ]
    },
    {
      "cell_type": "code",
      "execution_count": 1,
      "metadata": {
        "colab": {
          "base_uri": "https://localhost:8080/",
          "height": 36
        },
        "id": "QARdUV0YH_7M",
        "outputId": "5ba72cef-75eb-4dbc-ad3f-6b2e08f57717"
      },
      "outputs": [
        {
          "output_type": "execute_result",
          "data": {
            "text/plain": [
              "'hello world'"
            ],
            "application/vnd.google.colaboratory.intrinsic+json": {
              "type": "string"
            }
          },
          "metadata": {},
          "execution_count": 1
        }
      ],
      "source": [
        "\"hello world\""
      ]
    },
    {
      "cell_type": "markdown",
      "source": [],
      "metadata": {
        "id": "UiAc_wqhIbnp"
      }
    },
    {
      "cell_type": "markdown",
      "source": [
        "# incremental  decremental operators\n",
        "\n"
      ],
      "metadata": {
        "id": "LVoISUaFIePL"
      }
    },
    {
      "cell_type": "code",
      "source": [
        "a = 10\n",
        "a = a+5\n",
        "a+= 5\n",
        "print(a)\n",
        ""
      ],
      "metadata": {
        "colab": {
          "base_uri": "https://localhost:8080/"
        },
        "id": "-VWdQNDHI0xP",
        "outputId": "9843a945-81b0-4db5-c0f2-1e69394ce043"
      },
      "execution_count": 22,
      "outputs": [
        {
          "output_type": "stream",
          "name": "stdout",
          "text": [
            "20\n"
          ]
        }
      ]
    },
    {
      "cell_type": "code",
      "source": [
        "#substraction\n",
        "a-= 5\n",
        "print(a)"
      ],
      "metadata": {
        "colab": {
          "base_uri": "https://localhost:8080/"
        },
        "id": "45lJcZjGJdZQ",
        "outputId": "17735715-ec8c-42ec-b3ac-33ce0f10b8ac"
      },
      "execution_count": 23,
      "outputs": [
        {
          "output_type": "stream",
          "name": "stdout",
          "text": [
            "15\n"
          ]
        }
      ]
    },
    {
      "cell_type": "code",
      "source": [
        "# multipcation\n",
        "a*= 2\n",
        "print(a)"
      ],
      "metadata": {
        "colab": {
          "base_uri": "https://localhost:8080/"
        },
        "id": "THp4CYTJKIcg",
        "outputId": "3047d60a-e5c9-4447-b07c-ab45614c9531"
      },
      "execution_count": 24,
      "outputs": [
        {
          "output_type": "stream",
          "name": "stdout",
          "text": [
            "30\n"
          ]
        }
      ]
    },
    {
      "cell_type": "code",
      "source": [
        "#division\n",
        "a/= 2\n",
        "print(a)"
      ],
      "metadata": {
        "colab": {
          "base_uri": "https://localhost:8080/"
        },
        "id": "TYvC_v50KWzs",
        "outputId": "8bdb424f-7626-40c7-cdf4-ff0ea167acc3"
      },
      "execution_count": 25,
      "outputs": [
        {
          "output_type": "stream",
          "name": "stdout",
          "text": [
            "15.0\n"
          ]
        }
      ]
    },
    {
      "cell_type": "code",
      "source": [
        "#power\n",
        "b = 10\n",
        "b**= 5\n",
        "print(b)"
      ],
      "metadata": {
        "colab": {
          "base_uri": "https://localhost:8080/"
        },
        "id": "cOqYpzsxMEYT",
        "outputId": "5fbfd969-02c4-42fe-a964-c1efeabe8d43"
      },
      "execution_count": 31,
      "outputs": [
        {
          "output_type": "stream",
          "name": "stdout",
          "text": [
            "100000\n"
          ]
        }
      ]
    },
    {
      "cell_type": "markdown",
      "source": [
        "conditional **operators**"
      ],
      "metadata": {
        "id": "Dg04W35cMwfd"
      }
    },
    {
      "cell_type": "code",
      "source": [
        "n =5\n",
        "b = int(input(\"Enter the number: \"))\n",
        "if b==n:\n",
        "  print(\"Both the numbers are equal\")\n",
        "else:\n",
        "  print(\"Both are not equal\")\n",
        "\n",
        "str1 = \"hello\"\n",
        "str2 = \"Hello\"\n",
        "if str1==str2:\n",
        "  print(\"Both the numbers are equal\")\n",
        "else:\n",
        "  print(\"Both are not equal\")"
      ],
      "metadata": {
        "colab": {
          "base_uri": "https://localhost:8080/"
        },
        "id": "D4PZF_HxM39D",
        "outputId": "bc91c04f-1deb-4417-c2ea-225e733000fe"
      },
      "execution_count": 35,
      "outputs": [
        {
          "output_type": "stream",
          "name": "stdout",
          "text": [
            "Enter the number: 5\n",
            "Both the numbers are equal\n",
            "Both are not equal\n"
          ]
        }
      ]
    },
    {
      "cell_type": "code",
      "source": [
        "#Greter than (>)\n",
        "a =15\n",
        "b = 10\n",
        "if a>b:\n",
        "  print(\"a is gretar than b\")\n",
        "else:\n",
        "  print(\"a is lesser than b\")\n",
        "\n",
        "\n",
        "#greater than or equal(>=)\n",
        "\n",
        "a = 15\n",
        "b = 15\n",
        "if a>=b:\n",
        "  print(\"a is gretar than or equal to b\")\n",
        "else:\n",
        "  print(\"a is lesser than b\")\n",
        "\n"
      ],
      "metadata": {
        "colab": {
          "base_uri": "https://localhost:8080/"
        },
        "id": "G5lwU4gBOe6h",
        "outputId": "d3d57b77-4e08-4f60-8173-181cd1d2d89f"
      },
      "execution_count": 39,
      "outputs": [
        {
          "output_type": "stream",
          "name": "stdout",
          "text": [
            "a is gretar than b\n",
            "a is gretar than or equal to b\n"
          ]
        }
      ]
    },
    {
      "cell_type": "code",
      "source": [
        "# less than (<)\n",
        "\n",
        "a = 14\n",
        "b = 15\n",
        "if a<b:\n",
        "  print(\"a is less than b\")\n",
        "else:\n",
        "  print(\"a is greate than b\")"
      ],
      "metadata": {
        "colab": {
          "base_uri": "https://localhost:8080/"
        },
        "id": "txvMygWCQBBb",
        "outputId": "a42b0452-cb3a-4517-cc9e-064919523047"
      },
      "execution_count": 43,
      "outputs": [
        {
          "output_type": "stream",
          "name": "stdout",
          "text": [
            "a is less than b\n"
          ]
        }
      ]
    }
  ]
}