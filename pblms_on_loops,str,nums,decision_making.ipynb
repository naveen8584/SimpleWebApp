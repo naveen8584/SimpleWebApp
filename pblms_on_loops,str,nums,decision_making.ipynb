{
  "nbformat": 4,
  "nbformat_minor": 0,
  "metadata": {
    "colab": {
      "provenance": [],
      "authorship_tag": "ABX9TyOyXHen+Yo7F+tlewByiA1F",
      "include_colab_link": true
    },
    "kernelspec": {
      "name": "python3",
      "display_name": "Python 3"
    },
    "language_info": {
      "name": "python"
    }
  },
  "cells": [
    {
      "cell_type": "markdown",
      "metadata": {
        "id": "view-in-github",
        "colab_type": "text"
      },
      "source": [
        "<a href=\"https://colab.research.google.com/github/naveen8584/SimpleWebApp/blob/master/pblms_on_loops%2Cstr%2Cnums%2Cdecision_making.ipynb\" target=\"_parent\"><img src=\"https://colab.research.google.com/assets/colab-badge.svg\" alt=\"Open In Colab\"/></a>"
      ]
    },
    {
      "cell_type": "markdown",
      "source": [
        "1Q. print numbers from 1 to N\n",
        "take a positive integer N as input and print all the numbers from 1 to N.\n"
      ],
      "metadata": {
        "id": "S0ZlOJUX9zIC"
      }
    },
    {
      "cell_type": "code",
      "source": [
        "# input N = 5\n",
        "# output:1 2 3 4 5\n",
        "\n",
        "n = int(input(\"give n value\"))\n",
        "i = 1\n",
        "while i<=n:\n",
        "  print(i)\n",
        "  i+=1   #i=i+1\n",
        "    #or\n",
        "\n",
        "n = int(input(\"give n value\"))\n",
        "for i in range(1, n+1):\n",
        "  print(i)"
      ],
      "metadata": {
        "colab": {
          "base_uri": "https://localhost:8080/"
        },
        "id": "iKxVMIMo-QED",
        "outputId": "451d3dc2-c3d5-449e-b2c1-baade094c205"
      },
      "execution_count": 2,
      "outputs": [
        {
          "output_type": "stream",
          "name": "stdout",
          "text": [
            "give n value5\n",
            "1\n",
            "2\n",
            "3\n",
            "4\n",
            "5\n",
            "give n value5\n",
            "1\n",
            "2\n",
            "3\n",
            "4\n",
            "5\n"
          ]
        }
      ]
    },
    {
      "cell_type": "markdown",
      "source": [
        "calculate the sum of N numbers.\n",
        "take a positive integer N as input and calculate the sum of the first N natural numbers.\n",
        "input: N=5\n",
        "output: sum of first 5 natural numbers:15"
      ],
      "metadata": {
        "id": "3zdMbgIFjMS8"
      }
    },
    {
      "cell_type": "code",
      "source": [
        "n = int(input(\"give n value: \"))\n",
        "i = 1\n",
        "sum = 0\n",
        "while i<=n:\n",
        "  sum+=i   # sum=i+sum\n",
        "  i+=1\n",
        "print(sum)\n"
      ],
      "metadata": {
        "colab": {
          "base_uri": "https://localhost:8080/"
        },
        "id": "sv6i26TNkLyM",
        "outputId": "38a7d181-d8ce-4180-aa59-faab37d50c1f"
      },
      "execution_count": 4,
      "outputs": [
        {
          "output_type": "stream",
          "name": "stdout",
          "text": [
            "give n value: 5\n",
            "15\n"
          ]
        }
      ]
    },
    {
      "cell_type": "markdown",
      "source": [
        "print even numbers from 1 to n\n",
        "take a positive integer n as input and print all the even numbers fronm 1 to n.\n",
        "input: n=10\n",
        "output: 2 4 6 8 10"
      ],
      "metadata": {
        "id": "r00XW_Xuk8Ft"
      }
    },
    {
      "cell_type": "code",
      "source": [
        "n = int(input(\"give n value\"))\n",
        "i = 1\n",
        "while i<=n:\n",
        "  if i%2 == 0:\n",
        "    print(i)\n",
        "  i+=1"
      ],
      "metadata": {
        "colab": {
          "base_uri": "https://localhost:8080/"
        },
        "id": "MYu-WrGwlmAt",
        "outputId": "d823c0a8-a35e-4cb8-9478-a1fc85b9cdcf"
      },
      "execution_count": 5,
      "outputs": [
        {
          "output_type": "stream",
          "name": "stdout",
          "text": [
            "give n value10\n",
            "2\n",
            "4\n",
            "6\n",
            "8\n",
            "10\n"
          ]
        }
      ]
    },
    {
      "cell_type": "markdown",
      "source": [
        "print odd  numbers from 1t num\n",
        "take a positive integer N  as input and print all the odd numbers from 1 to N.\n",
        "input: n=10\n",
        "output: 1 3 5 7 9"
      ],
      "metadata": {
        "id": "8ZRkJx4mmOuK"
      }
    },
    {
      "cell_type": "code",
      "source": [
        "n = int(input(\"give n value\"))\n",
        "i = 1\n",
        "while i<=n:\n",
        "  if not (i%2 == 0):\n",
        "    print(i)\n",
        "  i+=1"
      ],
      "metadata": {
        "colab": {
          "base_uri": "https://localhost:8080/"
        },
        "id": "fN-SmtaynRJ6",
        "outputId": "f86a2d38-c52f-464e-930f-192cbe091c85"
      },
      "execution_count": 7,
      "outputs": [
        {
          "output_type": "stream",
          "name": "stdout",
          "text": [
            "give n value10\n",
            "1\n",
            "3\n",
            "5\n",
            "7\n",
            "9\n"
          ]
        }
      ]
    },
    {
      "cell_type": "markdown",
      "source": [
        "Multiplication table of a number\n",
        "take a positive integer N  as input and print the multipication table of N from 1 to 10.\n",
        "input: n=3"
      ],
      "metadata": {
        "id": "3IBpECVUovug"
      }
    },
    {
      "cell_type": "code",
      "source": [
        "n = int(input(\"give n value:\"))\n",
        "i = 1\n",
        "while i<=10:\n",
        "  print(f\"{n}*{i}={n*i}\")\n",
        "  i+=1\n",
        "\n",
        "  #or\n",
        "\n",
        "# for loop lo\n",
        "\n",
        "n = int(input(\"give n value: \"))\n",
        "for i in range(1, 11):\n",
        "  print(f\"{n}*{i}={n*i}\")"
      ],
      "metadata": {
        "colab": {
          "base_uri": "https://localhost:8080/"
        },
        "id": "iIpONFicphE5",
        "outputId": "6b93fddb-3e23-49e3-89ba-989820682262"
      },
      "execution_count": 11,
      "outputs": [
        {
          "output_type": "stream",
          "name": "stdout",
          "text": [
            "give n value:3\n",
            "3*1=3\n",
            "3*2=6\n",
            "3*3=9\n",
            "3*4=12\n",
            "3*5=15\n",
            "3*6=18\n",
            "3*7=21\n",
            "3*8=24\n",
            "3*9=27\n",
            "3*10=30\n",
            "give n value: 4\n",
            "4*1=4\n",
            "4*2=8\n",
            "4*3=12\n",
            "4*4=16\n",
            "4*5=20\n",
            "4*6=24\n",
            "4*7=28\n",
            "4*8=32\n",
            "4*9=36\n",
            "4*10=40\n"
          ]
        }
      ]
    },
    {
      "cell_type": "markdown",
      "source": [
        "calculate the factorial of a number\n",
        "take a positive integer N as input and calculate its factorial(n!).\n",
        "inpu: N=5\n",
        "output: Factorial of 5:120"
      ],
      "metadata": {
        "id": "1Z1H3lG8qYQj"
      }
    },
    {
      "cell_type": "code",
      "source": [
        "n = int(input(\"give n value: \"))\n",
        "factorial = 1\n",
        "while n>0:\n",
        "  factorial = factorial*n\n",
        "  n-=1\n",
        "print(factorial)"
      ],
      "metadata": {
        "colab": {
          "base_uri": "https://localhost:8080/"
        },
        "id": "bbKxkKpMrpIF",
        "outputId": "1b742ef5-93c2-4996-b533-d4aed6be67e7"
      },
      "execution_count": 12,
      "outputs": [
        {
          "output_type": "stream",
          "name": "stdout",
          "text": [
            "give n value: 5\n",
            "120\n"
          ]
        }
      ]
    }
  ]
}