{
  "nbformat": 4,
  "nbformat_minor": 0,
  "metadata": {
    "colab": {
      "provenance": [],
      "authorship_tag": "ABX9TyPNp3w75n9tSKhr91psfH/e",
      "include_colab_link": true
    },
    "kernelspec": {
      "name": "python3",
      "display_name": "Python 3"
    },
    "language_info": {
      "name": "python"
    }
  },
  "cells": [
    {
      "cell_type": "markdown",
      "metadata": {
        "id": "view-in-github",
        "colab_type": "text"
      },
      "source": [
        "<a href=\"https://colab.research.google.com/github/naveen8584/SimpleWebApp/blob/master/problems_on_str%2Cnumbers%2Cdecision_making.ipynb\" target=\"_parent\"><img src=\"https://colab.research.google.com/assets/colab-badge.svg\" alt=\"Open In Colab\"/></a>"
      ]
    },
    {
      "cell_type": "code",
      "execution_count": 10,
      "metadata": {
        "colab": {
          "base_uri": "https://localhost:8080/"
        },
        "id": "BuFah8LvW50p",
        "outputId": "6746aa17-d10a-4993-9788-439cc7ca4e48"
      },
      "outputs": [
        {
          "output_type": "stream",
          "name": "stdout",
          "text": [
            "maths in marks: 85\n",
            "science in marks: 90\n",
            "english in marks: 78\n",
            "Total marks:253\n",
            "Average marks:84.33333333333333\n",
            "Grade:A\n"
          ]
        }
      ],
      "source": [
        "## grade calculator\n",
        "## create program that takes the marks of a student in different subjects as input.\n",
        "# calculate the total marks and average, and then display the corresponding grade based on average.\n",
        "# input: marks in maths:85\n",
        "# input: marks in science:90\n",
        "# input: marks in english:78\n",
        "\n",
        "# output:total marks:253,\n",
        "# average marks:84.33\n",
        "# grade:A        ??????\n",
        "\n",
        "m = int(input(\"maths in marks: \"))\n",
        "s = int(input(\"science in marks: \"))\n",
        "e = int(input(\"english in marks: \"))\n",
        "\n",
        "total_marks=m+s+e\n",
        "average_marks= total_marks/3\n",
        "percentage=(total_marks/300)*100\n",
        "grade=\" \"\n",
        "if percentage > 90:\n",
        "  grade=\"A+\"\n",
        "elif percentage > 80 and percentage <= 90:\n",
        "  grade=\"A\"\n",
        "elif percentage > 70 and percentage <= 80:\n",
        "  grade=\"B+\"\n",
        "else:\n",
        "  grade=\"P\"\n",
        "print(f\"Total marks:{total_marks}\\nAverage marks:{average_marks}\\nGrade:{grade}\")\n",
        ""
      ]
    },
    {
      "cell_type": "code",
      "source": [
        "# largest of three numbers\n",
        "\n",
        "# write a program that takes three numbers as input and finding the largest among them using\n",
        "# decision making statements.\n",
        "# input:enter three numbers:15,8,22\n",
        "#output: the largest numbers is 22\n",
        "\n",
        "\n",
        "\n",
        "a = input(\"Enter 3 numbers separated by commas: \")\n",
        "x, y, z = a.split(\",\")\n",
        "num1 = int(x)\n",
        "num2 = int(y)\n",
        "num3 = int(z)\n",
        "great = 0\n",
        "\n",
        "if num1 > num2:\n",
        "    if num1 > num3:\n",
        "        great = num1\n",
        "    else:\n",
        "        great = num3\n",
        "elif num2 > num1:\n",
        "    if num2 > num3:\n",
        "        great = num2\n",
        "    else:\n",
        "        great = num3\n",
        "else:\n",
        "    if num3 > num1:\n",
        "        great = num3\n",
        "    else:\n",
        "        great = num1\n",
        "\n",
        "print(\"The largest number is:\", great)"
      ],
      "metadata": {
        "colab": {
          "base_uri": "https://localhost:8080/"
        },
        "id": "d3WG8T1YdeJo",
        "outputId": "c50dbd59-6e23-4773-f7d7-7dabdae464b8"
      },
      "execution_count": 23,
      "outputs": [
        {
          "output_type": "stream",
          "name": "stdout",
          "text": [
            "Enter 3 numbers separated by commas: 15,8,22\n",
            "The largest number is: 22\n"
          ]
        }
      ]
    },
    {
      "cell_type": "markdown",
      "source": [
        "leap year checker:\n",
        "write a program that takes a year as input and checks if it is a leap year or not.\n",
        "hint: a leap year is divisible by 4, except for years that are divisible by 100 but not divisible by 400.\n",
        "input: enter a year:2024\n",
        "output:it is a leap year.\n"
      ],
      "metadata": {
        "id": "0FtQG_Nho0Ky"
      }
    },
    {
      "cell_type": "code",
      "source": [
        "year = int(input())\n",
        "leap = False\n",
        "if year % 100 == 0 and year%400 !=0:\n",
        "  leap = False\n",
        "elif year%4 == 0:\n",
        "  leap = True\n",
        "else:\n",
        "  leap = False\n",
        "print(leap)\n"
      ],
      "metadata": {
        "colab": {
          "base_uri": "https://localhost:8080/"
        },
        "id": "ZaphuiUNoy6n",
        "outputId": "64dfa049-b1d5-47d4-db4b-53c2262c0124"
      },
      "execution_count": 28,
      "outputs": [
        {
          "output_type": "stream",
          "name": "stdout",
          "text": [
            "2024\n",
            "True\n"
          ]
        }
      ]
    }
  ]
}